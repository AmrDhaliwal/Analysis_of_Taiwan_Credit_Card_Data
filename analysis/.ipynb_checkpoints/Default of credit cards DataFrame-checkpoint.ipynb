{
 "cells": [
  {
   "cell_type": "code",
   "execution_count": 1,
   "metadata": {},
   "outputs": [],
   "source": [
    "import pandas as pd"
   ]
  },
  {
   "cell_type": "code",
   "execution_count": 2,
   "metadata": {},
   "outputs": [],
   "source": [
    "# Load data set into a Dataframe\n",
    "df = pd.read_csv(r\"C:\\Users\\Amrit\\Desktop\\School\\data301\\course-project-solo_119\\data\\data.raw\\default of credit card clients.csv\")"
   ]
  },
  {
   "cell_type": "code",
   "execution_count": 3,
   "metadata": {},
   "outputs": [
    {
     "name": "stdout",
     "output_type": "stream",
     "text": [
      "  Unnamed: 0         X1   X2         X3        X4   X5     X6     X7     X8  \\\n",
      "0         ID  LIMIT_BAL  SEX  EDUCATION  MARRIAGE  AGE  PAY_0  PAY_2  PAY_3   \n",
      "1          1      20000    2          2         1   24      2      2     -1   \n",
      "2          2     120000    2          2         2   26     -1      2      0   \n",
      "3          3      90000    2          2         2   34      0      0      0   \n",
      "4          4      50000    2          2         1   37      0      0      0   \n",
      "5          5      50000    1          2         1   57     -1      0     -1   \n",
      "6          6      50000    1          1         2   37      0      0      0   \n",
      "7          7     500000    1          1         2   29      0      0      0   \n",
      "8          8     100000    2          2         2   23      0     -1     -1   \n",
      "9          9     140000    2          3         1   28      0      0      2   \n",
      "\n",
      "      X9  ...        X15        X16        X17       X18       X19       X20  \\\n",
      "0  PAY_4  ...  BILL_AMT4  BILL_AMT5  BILL_AMT6  PAY_AMT1  PAY_AMT2  PAY_AMT3   \n",
      "1     -1  ...          0          0          0         0       689         0   \n",
      "2      0  ...       3272       3455       3261         0      1000      1000   \n",
      "3      0  ...      14331      14948      15549      1518      1500      1000   \n",
      "4      0  ...      28314      28959      29547      2000      2019      1200   \n",
      "5      0  ...      20940      19146      19131      2000     36681     10000   \n",
      "6      0  ...      19394      19619      20024      2500      1815       657   \n",
      "7      0  ...     542653     483003     473944     55000     40000     38000   \n",
      "8      0  ...        221       -159        567       380       601         0   \n",
      "9      0  ...      12211      11793       3719      3329         0       432   \n",
      "\n",
      "        X21       X22       X23                           Y  \n",
      "0  PAY_AMT4  PAY_AMT5  PAY_AMT6  default payment next month  \n",
      "1         0         0         0                           1  \n",
      "2      1000         0      2000                           1  \n",
      "3      1000      1000      5000                           0  \n",
      "4      1100      1069      1000                           0  \n",
      "5      9000       689       679                           0  \n",
      "6      1000      1000       800                           0  \n",
      "7     20239     13750     13770                           0  \n",
      "8       581      1687      1542                           0  \n",
      "9      1000      1000      1000                           0  \n",
      "\n",
      "[10 rows x 25 columns]\n"
     ]
    }
   ],
   "source": [
    "print(df.head(10))"
   ]
  },
  {
   "cell_type": "code",
   "execution_count": 4,
   "metadata": {
    "scrolled": true
   },
   "outputs": [
    {
     "name": "stdout",
     "output_type": "stream",
     "text": [
      "False\n"
     ]
    }
   ],
   "source": [
    "# Use code below to see if any Nan/NA values in df\n",
    "nan_in_df = df.isnull().values.any()\n",
    "print(nan_in_df)"
   ]
  },
  {
   "cell_type": "code",
   "execution_count": 52,
   "metadata": {},
   "outputs": [],
   "source": [
    "# Reanme all columns in Dataframe to names in the first row\n",
    "df.rename(columns={'Unnamed: 0': 'ID', 'X1': 'Limit_BAL', 'X2': 'SEX', 'X3': 'EDUCATION',\n",
    "                           'X4': 'MARRIAGE', 'X5': 'AGE', 'X6': 'PAY_APR', 'X7': 'PAY_MAY',\n",
    "                           'X8': 'PAY_JUN', 'X9': 'PAY_JUL', 'X10': 'PAY_AUG', 'X11': 'PAY_SEPT',\n",
    "                           'X12': 'BILL_AMT_APR', 'X13': 'BILL_AMT_MAY', 'X14': 'BILL_AMT_JUN',\n",
    "                           'X15': 'BILL_AMT_JUL', 'X16': 'BILL_AMT_AUG', 'X17': 'BILL_AMT_SEPT',\n",
    "                           'X18': 'PAY_AMT_APR', 'X19': 'PAY_AMT_MAY', 'X20': 'PAY_AMT_JUN',\n",
    "                           'X21': 'PAY_AMT_JUL', 'X22': 'PAY_AMT_AUG', 'X23': 'PAY_AMT_SEPT',\n",
    "                           'Y': 'PAY_NEXT_MONTH'}, inplace=True)\n"
   ]
  },
  {
   "cell_type": "code",
   "execution_count": 6,
   "metadata": {},
   "outputs": [
    {
     "name": "stdout",
     "output_type": "stream",
     "text": [
      "    ID Limit_BAL SEX EDUCATION MARRIAGE AGE PAY_APR PAY_MAY PAY_JUN PAY_JUL  \\\n",
      "1    1     20000   2         2        1  24       2       2      -1      -1   \n",
      "2    2    120000   2         2        2  26      -1       2       0       0   \n",
      "3    3     90000   2         2        2  34       0       0       0       0   \n",
      "4    4     50000   2         2        1  37       0       0       0       0   \n",
      "5    5     50000   1         2        1  57      -1       0      -1       0   \n",
      "6    6     50000   1         1        2  37       0       0       0       0   \n",
      "7    7    500000   1         1        2  29       0       0       0       0   \n",
      "8    8    100000   2         2        2  23       0      -1      -1       0   \n",
      "9    9    140000   2         3        1  28       0       0       2       0   \n",
      "10  10     20000   1         3        2  35      -2      -2      -2      -2   \n",
      "\n",
      "    ... BILL_AMT_JUL BILL_AMT_AUG BILL_AMT_SEPT PAY_AMT_APR PAY_AMT_MAY  \\\n",
      "1   ...            0            0             0           0         689   \n",
      "2   ...         3272         3455          3261           0        1000   \n",
      "3   ...        14331        14948         15549        1518        1500   \n",
      "4   ...        28314        28959         29547        2000        2019   \n",
      "5   ...        20940        19146         19131        2000       36681   \n",
      "6   ...        19394        19619         20024        2500        1815   \n",
      "7   ...       542653       483003        473944       55000       40000   \n",
      "8   ...          221         -159           567         380         601   \n",
      "9   ...        12211        11793          3719        3329           0   \n",
      "10  ...            0        13007         13912           0           0   \n",
      "\n",
      "   PAY_AMT_JUN PAY_AMT_JUL PAY_AMT_AUG PAY_AMT_SEPT PAY_NEXT_MONTH  \n",
      "1            0           0           0            0              1  \n",
      "2         1000        1000           0         2000              1  \n",
      "3         1000        1000        1000         5000              0  \n",
      "4         1200        1100        1069         1000              0  \n",
      "5        10000        9000         689          679              0  \n",
      "6          657        1000        1000          800              0  \n",
      "7        38000       20239       13750        13770              0  \n",
      "8            0         581        1687         1542              0  \n",
      "9          432        1000        1000         1000              0  \n",
      "10           0       13007        1122            0              0  \n",
      "\n",
      "[10 rows x 25 columns]\n"
     ]
    }
   ],
   "source": [
    "# Use df.drop to remove duplicate names from Dataframe\n",
    "# Make the change directly to the Dataframe\n",
    "df.drop(df.index[0], inplace=True)\n",
    "print(df.head(10))\n",
    "                  "
   ]
  },
  {
   "cell_type": "code",
   "execution_count": 55,
   "metadata": {},
   "outputs": [],
   "source": [
    "# Export the Dataframe to a csv and exclude the index from the Dataframe\n",
    "df.to_csv(r'C:\\Users\\Amrit\\Desktop\\School\\data301\\course-project-solo_119\\data\\data.processed\\Credit_Card_Data.csv', index = False)"
   ]
  },
  {
   "cell_type": "code",
   "execution_count": 69,
   "metadata": {},
   "outputs": [],
   "source": [
    "def load_and_process(df3):\n",
    "    #Method 1 load csv file and drop for Nan values\n",
    "    df1 = (\n",
    "        pd.read_csv(r\"C:\\Users\\Amrit\\Desktop\\School\\data301\\course-project-solo_119\\data\\data.raw\\default of credit card clients.csv\")\n",
    "        .dropna(inplace = False)\n",
    "    )\n",
    "    # Method 2 rename all columns in Dataframe\n",
    "    df2 = (\n",
    "        df1\n",
    "        .rename(columns={'Unnamed: 0': 'ID', 'X1': 'Limit_BAL', 'X2': 'SEX', 'X3': 'EDUCATION',\n",
    "                           'X4': 'MARRIAGE', 'X5': 'AGE', 'X6': 'PAY_APR', 'X7': 'PAY_MAY',\n",
    "                           'X8': 'PAY_JUN', 'X9': 'PAY_JUL', 'X10': 'PAY_AUG', 'X11': 'PAY_SEPT',\n",
    "                           'X12': 'BILL_AMT_APR', 'X13': 'BILL_AMT_MAY', 'X14': 'BILL_AMT_JUN',\n",
    "                           'X15': 'BILL_AMT_JUL', 'X16': 'BILL_AMT_AUG', 'X17': 'BILL_AMT_SEPT',\n",
    "                           'X18': 'PAY_AMT_APR', 'X19': 'PAY_AMT_MAY', 'X20': 'PAY_AMT_JUN',\n",
    "                           'X21': 'PAY_AMT_JUL', 'X22': 'PAY_AMT_AUG', 'X23': 'PAY_AMT_SEPT',\n",
    "                           'Y': 'PAY_NEXT_MONTH'}, inplace=False)\n",
    "    )\n",
    "    # Method 3 use .drop to remove duplicate names from Dataframe\n",
    "    df3 = (\n",
    "        df2\n",
    "        .drop(df.index[0], inplace=False)\n",
    "    )\n",
    "    \n",
    "    return df3    \n",
    "    "
   ]
  },
  {
   "cell_type": "code",
   "execution_count": null,
   "metadata": {},
   "outputs": [],
   "source": []
  },
  {
   "cell_type": "code",
   "execution_count": null,
   "metadata": {},
   "outputs": [],
   "source": []
  }
 ],
 "metadata": {
  "kernelspec": {
   "display_name": "Python 3",
   "language": "python",
   "name": "python3"
  },
  "language_info": {
   "codemirror_mode": {
    "name": "ipython",
    "version": 3
   },
   "file_extension": ".py",
   "mimetype": "text/x-python",
   "name": "python",
   "nbconvert_exporter": "python",
   "pygments_lexer": "ipython3",
   "version": "3.8.5"
  }
 },
 "nbformat": 4,
 "nbformat_minor": 4
}
