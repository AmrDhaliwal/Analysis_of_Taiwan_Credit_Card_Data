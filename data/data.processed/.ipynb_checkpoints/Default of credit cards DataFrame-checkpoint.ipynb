{
 "cells": [
  {
   "cell_type": "code",
   "execution_count": 1,
   "metadata": {},
   "outputs": [],
   "source": [
    "import pandas as pd"
   ]
  },
  {
   "cell_type": "code",
   "execution_count": 5,
   "metadata": {},
   "outputs": [],
   "source": [
    "# Load data set into a dataframe\n",
    "df = pd.read_csv(r\"C:\\Users\\Amrit\\Desktop\\School\\data301\\course-project-solo_119\\data\\data.raw\\default of credit card clients.csv\")"
   ]
  },
  {
   "cell_type": "code",
   "execution_count": 6,
   "metadata": {},
   "outputs": [
    {
     "name": "stdout",
     "output_type": "stream",
     "text": [
      "  Unnamed: 0         X1   X2         X3        X4   X5     X6     X7     X8  \\\n",
      "0         ID  LIMIT_BAL  SEX  EDUCATION  MARRIAGE  AGE  PAY_0  PAY_2  PAY_3   \n",
      "1          1      20000    2          2         1   24      2      2     -1   \n",
      "2          2     120000    2          2         2   26     -1      2      0   \n",
      "3          3      90000    2          2         2   34      0      0      0   \n",
      "4          4      50000    2          2         1   37      0      0      0   \n",
      "5          5      50000    1          2         1   57     -1      0     -1   \n",
      "6          6      50000    1          1         2   37      0      0      0   \n",
      "7          7     500000    1          1         2   29      0      0      0   \n",
      "8          8     100000    2          2         2   23      0     -1     -1   \n",
      "9          9     140000    2          3         1   28      0      0      2   \n",
      "\n",
      "      X9  ...        X15        X16        X17       X18       X19       X20  \\\n",
      "0  PAY_4  ...  BILL_AMT4  BILL_AMT5  BILL_AMT6  PAY_AMT1  PAY_AMT2  PAY_AMT3   \n",
      "1     -1  ...          0          0          0         0       689         0   \n",
      "2      0  ...       3272       3455       3261         0      1000      1000   \n",
      "3      0  ...      14331      14948      15549      1518      1500      1000   \n",
      "4      0  ...      28314      28959      29547      2000      2019      1200   \n",
      "5      0  ...      20940      19146      19131      2000     36681     10000   \n",
      "6      0  ...      19394      19619      20024      2500      1815       657   \n",
      "7      0  ...     542653     483003     473944     55000     40000     38000   \n",
      "8      0  ...        221       -159        567       380       601         0   \n",
      "9      0  ...      12211      11793       3719      3329         0       432   \n",
      "\n",
      "        X21       X22       X23                           Y  \n",
      "0  PAY_AMT4  PAY_AMT5  PAY_AMT6  default payment next month  \n",
      "1         0         0         0                           1  \n",
      "2      1000         0      2000                           1  \n",
      "3      1000      1000      5000                           0  \n",
      "4      1100      1069      1000                           0  \n",
      "5      9000       689       679                           0  \n",
      "6      1000      1000       800                           0  \n",
      "7     20239     13750     13770                           0  \n",
      "8       581      1687      1542                           0  \n",
      "9      1000      1000      1000                           0  \n",
      "\n",
      "[10 rows x 25 columns]\n"
     ]
    }
   ],
   "source": [
    "print(df.head(10))"
   ]
  },
  {
   "cell_type": "code",
   "execution_count": 10,
   "metadata": {
    "scrolled": true
   },
   "outputs": [
    {
     "name": "stdout",
     "output_type": "stream",
     "text": [
      "False\n"
     ]
    }
   ],
   "source": [
    "# Use code below to see if any Nan/NA values in df\n",
    "nan_in_df = df.isnull().values.any()\n",
    "print(nan_in_df)"
   ]
  },
  {
   "cell_type": "code",
   "execution_count": null,
   "metadata": {},
   "outputs": [],
   "source": []
  }
 ],
 "metadata": {
  "kernelspec": {
   "display_name": "Python 3",
   "language": "python",
   "name": "python3"
  },
  "language_info": {
   "codemirror_mode": {
    "name": "ipython",
    "version": 3
   },
   "file_extension": ".py",
   "mimetype": "text/x-python",
   "name": "python",
   "nbconvert_exporter": "python",
   "pygments_lexer": "ipython3",
   "version": "3.8.5"
  }
 },
 "nbformat": 4,
 "nbformat_minor": 4
}
